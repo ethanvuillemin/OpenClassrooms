{
 "cells": [
  {
   "cell_type": "markdown",
   "metadata": {},
   "source": [
    "# Exploration des données"
   ]
  },
  {
   "cell_type": "markdown",
   "metadata": {},
   "source": [
    "Pour joindre toutes les tables sans créer de doublons, il est important d'identifier les clés primaires et étrangères qui relient les tables entre elles. Voici les liens entre les tables de votre schéma :\n",
    "\n",
    "orders et customers :\n",
    "orders.customer_id est lié à customers.customer_id.\n",
    "\n",
    "orders et order_items :\n",
    "orders.order_id est lié à order_items.order_id.\n",
    "\n",
    "orders et order_reviews :\n",
    "orders.order_id est lié à order_reviews.order_id.\n",
    "\n",
    "order_items et products :\n",
    "order_items.product_id est lié à products.product_id.\n",
    "\n",
    "order_items et sellers :\n",
    "order_items.seller_id est lié à sellers.seller_id.\n",
    "\n",
    "products et translation :\n",
    "products.product_category_name est lié à translation.product_category_name.\n",
    "\n",
    "customers et geoloc :\n",
    "customers.customer_zip_code_prefix est lié à geoloc.geolocation_zip_code_prefix.\n",
    "\n",
    "sellers et geoloc :\n",
    "sellers.seller_zip_code_prefix est lié à geoloc.geolocation_zip_code_prefix.\n",
    "\n",
    "Pour joindre toutes les tables, vous pouvez utiliser les clés mentionnées ci-dessus. Voici un exemple de requête SQL qui joint toutes les tables :\n",
    "\n",
    "```sql\n",
    "\n",
    "SELECT\n",
    "  *\n",
    "FROM\n",
    "  orders o\n",
    "  JOIN customers c ON o.customer_id = c.customer_id\n",
    "  JOIN order_items oi ON o.order_id = oi.order_id\n",
    "  JOIN order_reviews orv ON o.order_id = orv.order_id\n",
    "  JOIN products p ON oi.product_id = p.product_id\n",
    "  JOIN sellers s ON oi.seller_id = s.seller_id\n",
    "  JOIN translation t ON p.product_category_name = t.product_category_name\n",
    "  JOIN geoloc g1 ON c.customer_zip_code_prefix = g1.geolocation_zip_code_prefix\n",
    "  JOIN geoloc g2 ON s.seller_zip_code_prefix = g2.geolocation_zip_code_prefix;\n",
    "\n",
    "```"
   ]
  },
  {
   "cell_type": "code",
   "execution_count": null,
   "metadata": {},
   "outputs": [],
   "source": [
    "import sqlite3\n",
    "import pandas as pd\n",
    "\n",
    "# Chemin vers votre fichier .db\n",
    "db_path = '../data/olist.db'\n",
    "\n",
    "# Requête SQL\n",
    "query = \"\"\"\n",
    "SELECT\n",
    "  *\n",
    "FROM\n",
    "  orders o\n",
    "  JOIN customers c ON o.customer_id = c.customer_id\n",
    "  JOIN order_items oi ON o.order_id = oi.order_id\n",
    "  JOIN order_reviews orv ON o.order_id = orv.order_id\n",
    "  JOIN products p ON oi.product_id = p.product_id\n",
    "  JOIN sellers s ON oi.seller_id = s.seller_id\n",
    "  JOIN translation t ON p.product_category_name = t.product_category_name\n",
    "  JOIN geoloc g1 ON c.customer_zip_code_prefix = g1.geolocation_zip_code_prefix\n",
    "  JOIN geoloc g2 ON s.seller_zip_code_prefix = g2.geolocation_zip_code_prefix;\n",
    "\"\"\"\n",
    "\n",
    "# Connexion à la base de données\n",
    "conn = sqlite3.connect(db_path)\n",
    "\n",
    "# Exécution de la requête et chargement des résultats dans un DataFrame\n",
    "df = pd.read_sql_query(query, conn)\n",
    "\n",
    "# Fermeture de la connexion\n",
    "conn.close()\n",
    "\n",
    "# Affichage du DataFrame\n",
    "print(df)\n"
   ]
  }
 ],
 "metadata": {
  "kernelspec": {
   "display_name": ".venv",
   "language": "python",
   "name": "python3"
  },
  "language_info": {
   "codemirror_mode": {
    "name": "ipython",
    "version": 3
   },
   "file_extension": ".py",
   "mimetype": "text/x-python",
   "name": "python",
   "nbconvert_exporter": "python",
   "pygments_lexer": "ipython3",
   "version": "3.11.6"
  }
 },
 "nbformat": 4,
 "nbformat_minor": 2
}
