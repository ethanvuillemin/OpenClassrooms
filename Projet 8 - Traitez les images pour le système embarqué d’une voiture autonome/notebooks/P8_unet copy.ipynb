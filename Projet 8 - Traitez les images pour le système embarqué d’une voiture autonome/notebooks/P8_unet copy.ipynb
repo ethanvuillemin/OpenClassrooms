{
  "cells": [
    {
      "cell_type": "code",
      "execution_count": null,
      "metadata": {
        "colab": {
          "base_uri": "https://localhost:8080/"
        },
        "id": "IkjSxpzU0wHw",
        "outputId": "fe472420-f653-4478-d1be-aaafb1abcc9c"
      },
      "outputs": [],
      "source": [
        "from google.colab import drive\n",
        "drive.mount('/content/drive')"
      ]
    },
    {
      "cell_type": "markdown",
      "metadata": {
        "id": "5O4eSwdd0W2u"
      },
      "source": [
        "# Image segmentation with a U-Net-like architecture\n",
        "\n",
        "**Author:** [fchollet](https://twitter.com/fchollet)<br>\n",
        "**Date created:** 2019/03/20<br>\n",
        "**Last modified:** 2020/04/20<br>\n",
        "**Description:** Image segmentation model trained from scratch on the Oxford Pets dataset."
      ]
    },
    {
      "cell_type": "markdown",
      "metadata": {
        "id": "c1nys4X90W2w"
      },
      "source": [
        "## Download the data"
      ]
    },
    {
      "cell_type": "code",
      "execution_count": null,
      "metadata": {
        "id": "yj3C9yHq0-H8"
      },
      "outputs": [],
      "source": [
        "IMAGE_PATH = \"/content/drive/MyDrive/Openclassrooms/p8/P8_Cityscapes_leftImg8bit_trainvaltest.zip\"\n",
        "LABEL_PATH = \"/content/drive/MyDrive/Openclassrooms/p8/P8_Cityscapes_gtFine_trainvaltest.zip\""
      ]
    },
    {
      "cell_type": "code",
      "execution_count": null,
      "metadata": {
        "id": "P57_pbbJ1ZD7"
      },
      "outputs": [],
      "source": [
        "#!unzip -q {IMAGE_PATH} -d /content/drive/MyDrive/Openclassrooms/p8\n",
        "#!unzip -q {LABEL_PATH} -d /content/drive/MyDrive/Openclassrooms/p8"
      ]
    },
    {
      "cell_type": "markdown",
      "metadata": {
        "id": "oRmpF5d70W23"
      },
      "source": [
        "## Prepare paths of input images and target segmentation masks"
      ]
    },
    {
      "cell_type": "code",
      "execution_count": null,
      "metadata": {
        "id": "20sB5wh23qVV"
      },
      "outputs": [],
      "source": [
        "import os\n",
        "\n",
        "input_dir = \"/content/drive/MyDrive/Openclassrooms/p8/leftImg8bit\"\n",
        "target_dir = \"/content/drive/MyDrive/Openclassrooms/p8/gtFine\"\n",
        "img_size = (160, 160)\n",
        "num_classes = 3\n",
        "batch_size = 32"
      ]
    },
    {
      "cell_type": "code",
      "execution_count": null,
      "metadata": {
        "id": "i5SSAlOBGlvM"
      },
      "outputs": [],
      "source": [
        "directory = ['val', 'test', 'train']"
      ]
    },
    {
      "cell_type": "code",
      "execution_count": null,
      "metadata": {
        "colab": {
          "base_uri": "https://localhost:8080/"
        },
        "id": "N00cYl0X4wHy",
        "outputId": "6b8f46e6-534a-43dc-9a55-4e08e773afaa"
      },
      "outputs": [],
      "source": [
        "import os\n",
        "import shutil\n",
        "import traceback\n",
        "\n",
        "def images_in_one_folder(base_dir, directories):\n",
        "    for dir in directories:\n",
        "        print(f\"Directory: {dir}\")\n",
        "        folder_path = os.path.join(base_dir, dir)\n",
        "\n",
        "        try:\n",
        "            # Vérifier si le chemin existe\n",
        "            if not os.path.exists(folder_path):\n",
        "                print(f\"Le chemin {folder_path} n'existe pas.\")\n",
        "                continue\n",
        "\n",
        "            # Parcourir chaque sous-dossier dans le dossier courant (val, test, train)\n",
        "            for folder in os.listdir(folder_path):\n",
        "                folder_full_path = os.path.join(folder_path, folder)\n",
        "\n",
        "                try:\n",
        "                    # Vérifier si c'est un dossier\n",
        "                    if os.path.isdir(folder_full_path):\n",
        "                        # Parcourir chaque fichier dans le sous-dossier\n",
        "                        for file in os.listdir(folder_full_path):\n",
        "                            file_full_path = os.path.join(folder_full_path, file)\n",
        "\n",
        "                            try:\n",
        "                                # Déplacer le fichier dans le dossier parent\n",
        "                                shutil.move(file_full_path, folder_path)\n",
        "                                print(f\"Fichier déplacé: {file_full_path} vers {folder_path}\")\n",
        "                            except Exception as e:\n",
        "                                print(f\"Erreur lors du déplacement du fichier {file_full_path}: {e}\")\n",
        "                                traceback.print_exc()\n",
        "\n",
        "                        try:\n",
        "                            # Supprimer le sous-dossier vide\n",
        "                            os.rmdir(folder_full_path)\n",
        "                            print(f\"Dossier supprimé: {folder_full_path}\")\n",
        "                        except Exception as e:\n",
        "                            print(f\"Erreur lors de la suppression du dossier {folder_full_path}: {e}\")\n",
        "                            traceback.print_exc()\n",
        "                except Exception as e:\n",
        "                    print(f\"Erreur lors du traitement du dossier {folder_full_path}: {e}\")\n",
        "                    traceback.print_exc()\n",
        "        except Exception as e:\n",
        "            print(f\"Erreur lors du traitement du répertoire {dir}: {e}\")\n",
        "            traceback.print_exc()\n",
        "\n",
        "    print(\"Tous les fichiers ont été déplacés.\\n\")\n",
        "\n",
        "# Chemins des répertoires\n",
        "input_dir = \"/content/drive/MyDrive/Openclassrooms/p8/leftImg8bit\"\n",
        "target_dir = \"/content/drive/MyDrive/Openclassrooms/p8/gtFine\"\n",
        "\n",
        "# Liste des répertoires à traiter\n",
        "directories = ['val', 'test', 'train']\n",
        "\n",
        "# Appel de la fonction pour les deux répertoires\n",
        "images_in_one_folder(input_dir, directories)\n",
        "images_in_one_folder(target_dir, directories)\n"
      ]
    },
    {
      "cell_type": "code",
      "execution_count": null,
      "metadata": {
        "id": "kXPXP9StVW_h"
      },
      "outputs": [],
      "source": [
        "import os\n",
        "\n",
        "def clean_directories(base_dir, directories, tag):\n",
        "    \"\"\"\n",
        "    Parcourt les dossiers spécifiés et supprime les fichiers qui ne contiennent pas le tag donné.\n",
        "\n",
        "    :param base_dir: Le répertoire de base contenant les sous-dossiers à nettoyer.\n",
        "    :param directories: Une liste des sous-dossiers à parcourir (par exemple, ['train', 'test', 'val']).\n",
        "    :param tag: Le tag que les fichiers doivent contenir pour ne pas être supprimés.\n",
        "    \"\"\"\n",
        "    for dir in directories:\n",
        "        print(f\"Directory: {dir}\")\n",
        "        folder_path = os.path.join(base_dir, dir)\n",
        "\n",
        "        try:\n",
        "            # Vérifier si le chemin existe\n",
        "            if not os.path.exists(folder_path):\n",
        "                print(f\"Le chemin {folder_path} n'existe pas.\")\n",
        "                continue\n",
        "\n",
        "            # Parcourir chaque fichier dans le dossier courant\n",
        "            for file in os.listdir(folder_path):\n",
        "                file_full_path = os.path.join(folder_path, file)\n",
        "\n",
        "                try:\n",
        "                    # Vérifier si c'est un fichier et s'il ne contient pas le tag\n",
        "                    if os.path.isfile(file_full_path) and tag not in file:\n",
        "                        # Supprimer le fichier\n",
        "                        os.remove(file_full_path)\n",
        "                        print(f\"Fichier supprimé: {file_full_path}\")\n",
        "                except Exception as e:\n",
        "                    print(f\"Erreur lors du traitement du fichier {file_full_path}: {e}\")\n",
        "                    traceback.print_exc()\n",
        "\n",
        "        except Exception as e:\n",
        "            print(f\"Erreur lors du traitement du répertoire {dir}: {e}\")\n",
        "            traceback.print_exc()\n",
        "\n",
        "    print(\"Nettoyage terminé.\\n\")\n",
        "\n",
        "# Chemins des répertoires\n",
        "target_dir = \"/content/drive/MyDrive/Openclassrooms/p8/gtFine\"\n",
        "\n",
        "# Liste des répertoires à traiter\n",
        "directories = ['val', 'test', 'train']\n",
        "\n",
        "# Tag à rechercher dans les noms de fichiers\n",
        "tag = 'gtFine_color'\n",
        "\n",
        "# Appel de la fonction pour nettoyer les répertoires\n",
        "clean_directories(target_dir, directories, tag)\n"
      ]
    },
    {
      "cell_type": "code",
      "execution_count": null,
      "metadata": {
        "colab": {
          "base_uri": "https://localhost:8080/"
        },
        "id": "jm3vA3qHSyrB",
        "outputId": "212b9fba-861f-4f7d-f1cb-aa763f6d13d9"
      },
      "outputs": [],
      "source": [
        "# What does one input image and corresponding segmentation mask look like?\n",
        "from IPython.display import Image, display\n",
        "from keras.utils import load_img\n",
        "from PIL import ImageOps\n",
        "\n",
        "input_img_paths = sorted([os.path.join(input_dir, 'train', img) for img in os.listdir(os.path.join(input_dir, 'train'))])\n",
        "target_img_paths = sorted([os.path.join(target_dir, 'train', img) for img in os.listdir(os.path.join(target_dir, 'train'))])\n",
        "\n",
        "print(input_img_paths)\n",
        "print(target_img_paths)\n",
        "\n"
      ]
    },
    {
      "cell_type": "code",
      "execution_count": null,
      "metadata": {
        "colab": {
          "base_uri": "https://localhost:8080/",
          "height": 1000
        },
        "id": "2oj5sGHFTZFv",
        "outputId": "4b23f8f7-2054-4f4c-8dc7-6952de0395c3"
      },
      "outputs": [],
      "source": [
        "# Display input image #9\n",
        "display(Image(filename=input_img_paths[11]))\n",
        "\n",
        "from IPython.display import Image, display\n",
        "from keras.utils import load_img\n",
        "from PIL import ImageOps\n",
        "import os\n",
        "\n",
        "# Assurez-vous que target_img_paths est bien défini et contient les chemins corrects\n",
        "input_dir = \"/content/drive/MyDrive/Openclassrooms/p8/leftImg8bit\"\n",
        "target_dir = \"/content/drive/MyDrive/Openclassrooms/p8/gtFine\"\n",
        "\n",
        "# Liste des fichiers dans le dossier target\n",
        "target_img_paths = sorted([os.path.join(target_dir, 'train', img) for img in os.listdir(os.path.join(target_dir, 'train'))])\n",
        "\n",
        "# Vérifiez que le chemin existe et est correct\n",
        "print(f\"Chemin du fichier 11: {target_img_paths[11]}\")\n",
        "\n",
        "# Vérifiez si le fichier existe\n",
        "if os.path.exists(target_img_paths[11]):\n",
        "    # Affichez l'image auto-contrast\n",
        "    img = ImageOps.autocontrast(load_img(target_img_paths[11]))\n",
        "    display(img)\n",
        "else:\n",
        "    print(f\"Le fichier {target_img_paths[11]} n'existe pas.\")\n"
      ]
    },
    {
      "cell_type": "markdown",
      "metadata": {},
      "source": [
        "https://www.youtube.com/watch?v=wYiJHFQ6f0Q"
      ]
    },
    {
      "cell_type": "code",
      "execution_count": 1,
      "metadata": {},
      "outputs": [],
      "source": [
        "from tensorflow.keras.layers import Conv2D, BatchNormalization, Activation, MaxPool2D, Conv2DTranspose, Concatenate, Input\n",
        "from tensorflow.keras.models import Model\n",
        "from tensorflow.keras.applications import ResNet50\n",
        "\n",
        "def conv_block(input, num_filters):\n",
        "    x = Conv2D(num_filters, 3, padding=\"same\")(input)\n",
        "    x = BatchNormalization()(x)\n",
        "    x = Activation(\"relu\")(x)\n",
        "\n",
        "    x = Conv2D(num_filters, 3, padding=\"same\")(x)\n",
        "    x = BatchNormalization()(x)\n",
        "    x = Activation(\"relu\")(x)\n",
        "\n",
        "    return x\n",
        "\n",
        "def decoder_block(input, skip_features, num_filters):\n",
        "    x = Conv2DTranspose(num_filters, (2, 2), strides=2, padding=\"same\")(input)\n",
        "    x = Concatenate()([x, skip_features])\n",
        "    x = conv_block(x, num_filters)\n",
        "    return x\n",
        "\n",
        "def build_resnet50_unet(input_shape):\n",
        "    \"\"\" Input \"\"\"\n",
        "    inputs = Input(input_shape)\n",
        "\n",
        "    \"\"\" Pre-trained ResNet50 Model \"\"\"\n",
        "    resnet50 = ResNet50(include_top=False, weights=\"imagenet\", input_tensor=inputs)\n",
        "\n",
        "    \"\"\" Encoder \"\"\"\n",
        "    # S is for skip connection\n",
        "    s1 = resnet50.get_layer(\"input_layer\").output           ## (512 x 512)\n",
        "    s2 = resnet50.get_layer(\"conv1_relu\").output        ## (256 x 256)\n",
        "    s3 = resnet50.get_layer(\"conv2_block3_out\").output  ## (128 x 128)\n",
        "    s4 = resnet50.get_layer(\"conv3_block4_out\").output  ## (64 x 64)\n",
        "\n",
        "    \"\"\" Bridge \"\"\"\n",
        "    b1 = resnet50.get_layer(\"conv4_block6_out\").output  ## (32 x 32)\n",
        "\n",
        "    \"\"\" Decoder \"\"\"\n",
        "    d1 = decoder_block(b1, s4, 512)                     ## (64 x 64)\n",
        "    d2 = decoder_block(d1, s3, 256)                     ## (128 x 128)\n",
        "    d3 = decoder_block(d2, s2, 128)                     ## (256 x 256)\n",
        "    d4 = decoder_block(d3, s1, 64)                      ## (512 x 512)\n",
        "\n",
        "    \"\"\" Output \"\"\"\n",
        "    outputs = Conv2D(1, 1, padding=\"same\", activation=\"sigmoid\")(d4)\n",
        "\n",
        "    model = Model(inputs, outputs, name=\"ResNet50_U-Net\")\n",
        "    return model\n",
        "\n",
        "if __name__ == \"__main__\":\n",
        "    input_shape = (512, 512, 3)\n",
        "    model = build_resnet50_unet(input_shape)\n",
        "    # model.summary()"
      ]
    },
    {
      "cell_type": "code",
      "execution_count": 2,
      "metadata": {},
      "outputs": [],
      "source": [
        "import tensorflow as tf\n",
        "from tensorflow.keras import backend as K\n",
        "\n",
        "def recall(y_true, y_pred):\n",
        "    true_positives = K.sum(K.round(K.clip(y_true * y_pred, 0, 1)))\n",
        "    possible_positives = K.sum(K.round(K.clip(y_true, 0, 1)))\n",
        "    recall = true_positives / (possible_positives + K.epsilon())\n",
        "    return recall\n",
        "\n",
        "def precision(y_true, y_pred):\n",
        "    true_positives = K.sum(K.round(K.clip(y_true * y_pred, 0, 1)))\n",
        "    predicted_positives = K.sum(K.round(K.clip(y_pred, 0, 1)))\n",
        "    precision = true_positives / (predicted_positives + K.epsilon())\n",
        "    return precision\n",
        "\n",
        "def f1_score(y_true, y_pred):\n",
        "    precision = precision(y_true, y_pred)\n",
        "    recall = recall(y_true, y_pred)\n",
        "    return 2 * ((precision * recall) / (precision + recall + K.epsilon()))\n",
        "\n",
        "def mean_iou(y_true, y_pred):\n",
        "    y_pred = tf.round(y_pred)\n",
        "    intersection = K.sum(K.abs(y_true * y_pred), axis=[1, 2, 3])\n",
        "    union = K.sum(y_true, axis=[1, 2, 3]) + K.sum(y_pred, axis=[1, 2, 3]) - intersection\n",
        "    iou = K.mean((intersection + K.epsilon()) / (union + K.epsilon()), axis=0)\n",
        "    return iou\n"
      ]
    },
    {
      "cell_type": "code",
      "execution_count": 3,
      "metadata": {},
      "outputs": [],
      "source": [
        "model.compile(optimizer='adam', loss='binary_crossentropy', metrics=[recall, precision, f1_score, mean_iou])"
      ]
    },
    {
      "cell_type": "code",
      "execution_count": null,
      "metadata": {},
      "outputs": [],
      "source": [
        "from tensorflow.keras.callbacks import EarlyStopping, ModelCheckpoint\n",
        "# Callbacks\n",
        "early_stopping = EarlyStopping(monitor='val_loss', patience=10, restore_best_weights=True)\n",
        "model_checkpoint = ModelCheckpoint('best_model.h5', monitor='val_loss', save_best_only=True)\n",
        "\n",
        "# Supposons que x_train, y_train, x_val, y_val soient vos données d'entraînement et de validation\n",
        "history = model.fit(\n",
        "    x_train, y_train,\n",
        "    validation_data=(x_val, y_val),\n",
        "    batch_size=8,\n",
        "    epochs=50,\n",
        "    callbacks=[early_stopping, model_checkpoint],\n",
        "    verbose=1\n",
        ")"
      ]
    },
    {
      "cell_type": "code",
      "execution_count": null,
      "metadata": {},
      "outputs": [],
      "source": [
        "results = model.evaluate(x_val, y_val, batch_size=8)\n",
        "print(\"Validation Loss:\", results[0])\n",
        "print(\"Validation Recall:\", results[1])\n",
        "print(\"Validation Precision:\", results[2])\n",
        "print(\"Validation F1 Score:\", results[3])\n",
        "print(\"Validation Mean IoU:\", results[4])\n"
      ]
    }
  ],
  "metadata": {
    "colab": {
      "provenance": []
    },
    "kernelspec": {
      "display_name": "Projet 8 - Traitez les images pour le système embarqué d’une voiture autonome",
      "language": "python",
      "name": "python3"
    },
    "language_info": {
      "codemirror_mode": {
        "name": "ipython",
        "version": 3
      },
      "file_extension": ".py",
      "mimetype": "text/x-python",
      "name": "python",
      "nbconvert_exporter": "python",
      "pygments_lexer": "ipython3",
      "version": "3.11.6"
    }
  },
  "nbformat": 4,
  "nbformat_minor": 0
}
