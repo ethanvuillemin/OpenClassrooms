{
 "cells": [
  {
   "cell_type": "markdown",
   "id": "0719d0e2",
   "metadata": {},
   "source": [
    "# Cleaning des données"
   ]
  },
  {
   "cell_type": "code",
   "execution_count": null,
   "id": "156da679",
   "metadata": {},
   "outputs": [],
   "source": [
    "import os\n",
    "import shutil\n",
    "import traceback"
   ]
  },
  {
   "cell_type": "markdown",
   "id": "7f45857d",
   "metadata": {},
   "source": [
    "## Telechargement des données"
   ]
  },
  {
   "cell_type": "code",
   "execution_count": null,
   "id": "55eccc96",
   "metadata": {},
   "outputs": [],
   "source": [
    "!wget \n",
    "!wget"
   ]
  },
  {
   "cell_type": "code",
   "execution_count": null,
   "id": "35319062",
   "metadata": {},
   "outputs": [],
   "source": [
    "IMAGE_PATH = \"/content/drive/MyDrive/Openclassrooms/p8/P8_Cityscapes_leftImg8bit_trainvaltest.zip\"\n",
    "LABEL_PATH = (\n",
    "    \"/content/drive/MyDrive/Openclassrooms/p8/P8_Cityscapes_gtFine_trainvaltest.zip\"\n",
    ")"
   ]
  },
  {
   "cell_type": "markdown",
   "id": "5e80b42a",
   "metadata": {},
   "source": [
    "## Unzip des données"
   ]
  },
  {
   "cell_type": "code",
   "execution_count": null,
   "id": "6b6947f9",
   "metadata": {},
   "outputs": [],
   "source": [
    "#!unzip -q {IMAGE_PATH} -d /content/drive/MyDrive/Openclassrooms/p8\n",
    "#!unzip -q {LABEL_PATH} -d /content/drive/MyDrive/Openclassrooms/p8"
   ]
  },
  {
   "cell_type": "code",
   "execution_count": null,
   "id": "bf55584c",
   "metadata": {},
   "outputs": [],
   "source": [
    "input_dir = \"/content/drive/MyDrive/Openclassrooms/p8/leftImg8bit\"\n",
    "target_dir = \"/content/drive/MyDrive/Openclassrooms/p8/gtFine\"\n",
    "parents_dir = [\"val\", \"test\", \"train\"]\n",
    "tag = \"gtFine_color\""
   ]
  },
  {
   "cell_type": "markdown",
   "id": "3ef08440",
   "metadata": {},
   "source": [
    "## Deplacer les images dans les repertoires parents (train, test, val)"
   ]
  },
  {
   "cell_type": "code",
   "execution_count": null,
   "id": "620bc13b",
   "metadata": {},
   "outputs": [],
   "source": [
    "def images_in_one_folder(base_dir, directories):\n",
    "    for dir in directories:\n",
    "        print(f\"Directory: {dir}\")\n",
    "        folder_path = os.path.join(base_dir, dir)\n",
    "\n",
    "        try:\n",
    "            # Vérifier si le chemin existe\n",
    "            if not os.path.exists(folder_path):\n",
    "                print(f\"Le chemin {folder_path} n'existe pas.\")\n",
    "                continue\n",
    "\n",
    "            # Parcourir chaque sous-dossier dans le dossier courant (val, test, train)\n",
    "            for folder in os.listdir(folder_path):\n",
    "                folder_full_path = os.path.join(folder_path, folder)\n",
    "\n",
    "                try:\n",
    "                    # Vérifier si c'est un dossier\n",
    "                    if os.path.isdir(folder_full_path):\n",
    "                        # Parcourir chaque fichier dans le sous-dossier\n",
    "                        for file in os.listdir(folder_full_path):\n",
    "                            file_full_path = os.path.join(folder_full_path, file)\n",
    "\n",
    "                            try:\n",
    "                                # Déplacer le fichier dans le dossier parent\n",
    "                                shutil.move(file_full_path, folder_path)\n",
    "                                print(\n",
    "                                    f\"Fichier déplacé: {file_full_path} vers {folder_path}\"\n",
    "                                )\n",
    "                            except Exception as e:\n",
    "                                print(\n",
    "                                    f\"Erreur lors du déplacement du fichier {file_full_path}: {e}\"\n",
    "                                )\n",
    "                                traceback.print_exc()\n",
    "\n",
    "                        try:\n",
    "                            # Supprimer le sous-dossier vide\n",
    "                            os.rmdir(folder_full_path)\n",
    "                            print(f\"Dossier supprimé: {folder_full_path}\")\n",
    "                        except Exception as e:\n",
    "                            print(\n",
    "                                f\"Erreur lors de la suppression du dossier {folder_full_path}: {e}\"\n",
    "                            )\n",
    "                            traceback.print_exc()\n",
    "                except Exception as e:\n",
    "                    print(\n",
    "                        f\"Erreur lors du traitement du dossier {folder_full_path}: {e}\"\n",
    "                    )\n",
    "                    traceback.print_exc()\n",
    "        except Exception as e:\n",
    "            print(f\"Erreur lors du traitement du répertoire {dir}: {e}\")\n",
    "            traceback.print_exc()\n",
    "\n",
    "    print(\"Tous les fichiers ont été déplacés.\\n\")\n"
   ]
  },
  {
   "cell_type": "code",
   "execution_count": null,
   "id": "c896a613",
   "metadata": {},
   "outputs": [],
   "source": [
    "# Appel de la fonction pour les deux répertoires\n",
    "images_in_one_folder(input_dir, parents_dir)\n",
    "images_in_one_folder(target_dir, parents_dir)"
   ]
  },
  {
   "cell_type": "markdown",
   "id": "a4d3ca03",
   "metadata": {},
   "source": [
    "## Garder uniquements le type de target dont ont a besoin"
   ]
  },
  {
   "cell_type": "code",
   "execution_count": null,
   "id": "ef1e365c",
   "metadata": {},
   "outputs": [],
   "source": [
    "def clean_directories(base_dir, directories, tag):\n",
    "    \"\"\"\n",
    "    Parcourt les dossiers spécifiés et supprime les fichiers qui ne contiennent pas le tag donné.\n",
    "\n",
    "    :param base_dir: Le répertoire de base contenant les sous-dossiers à nettoyer.\n",
    "    :param directories: Une liste des sous-dossiers à parcourir (par exemple, ['train', 'test', 'val']).\n",
    "    :param tag: Le tag que les fichiers doivent contenir pour ne pas être supprimés.\n",
    "    \"\"\"\n",
    "    for dir in directories:\n",
    "        print(f\"Directory: {dir}\")\n",
    "        folder_path = os.path.join(base_dir, dir)\n",
    "\n",
    "        try:\n",
    "            # Vérifier si le chemin existe\n",
    "            if not os.path.exists(folder_path):\n",
    "                print(f\"Le chemin {folder_path} n'existe pas.\")\n",
    "                continue\n",
    "\n",
    "            # Parcourir chaque fichier dans le dossier courant\n",
    "            for file in os.listdir(folder_path):\n",
    "                file_full_path = os.path.join(folder_path, file)\n",
    "\n",
    "                try:\n",
    "                    # Vérifier si c'est un fichier et s'il ne contient pas le tag\n",
    "                    if os.path.isfile(file_full_path) and tag not in file:\n",
    "                        # Supprimer le fichier\n",
    "                        os.remove(file_full_path)\n",
    "                        print(f\"Fichier supprimé: {file_full_path}\")\n",
    "                except Exception as e:\n",
    "                    print(f\"Erreur lors du traitement du fichier {file_full_path}: {e}\")\n",
    "                    traceback.print_exc()\n",
    "\n",
    "        except Exception as e:\n",
    "            print(f\"Erreur lors du traitement du répertoire {dir}: {e}\")\n",
    "            traceback.print_exc()\n",
    "\n",
    "    print(\"Nettoyage terminé.\\n\")\n"
   ]
  },
  {
   "cell_type": "code",
   "execution_count": null,
   "id": "951f53f5",
   "metadata": {},
   "outputs": [],
   "source": [
    "#  nettoyer les répertoires\n",
    "clean_directories(target_dir, parents_dir, tag)"
   ]
  }
 ],
 "metadata": {
  "language_info": {
   "name": "python"
  }
 },
 "nbformat": 4,
 "nbformat_minor": 5
}
