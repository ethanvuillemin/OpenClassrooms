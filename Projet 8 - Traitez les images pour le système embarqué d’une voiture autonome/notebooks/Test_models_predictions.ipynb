{
 "cells": [
  {
   "cell_type": "code",
   "execution_count": 3,
   "id": "c9b520ae",
   "metadata": {},
   "outputs": [
    {
     "ename": "ModuleNotFoundError",
     "evalue": "No module named 'keras'",
     "output_type": "error",
     "traceback": [
      "\u001b[31m---------------------------------------------------------------------------\u001b[39m",
      "\u001b[31mModuleNotFoundError\u001b[39m                       Traceback (most recent call last)",
      "\u001b[36mCell\u001b[39m\u001b[36m \u001b[39m\u001b[32mIn[3]\u001b[39m\u001b[32m, line 1\u001b[39m\n\u001b[32m----> \u001b[39m\u001b[32m1\u001b[39m \u001b[38;5;28;01mfrom\u001b[39;00m\u001b[38;5;250m \u001b[39m\u001b[34;01mkeras\u001b[39;00m\u001b[34;01m.\u001b[39;00m\u001b[34;01mmodels\u001b[39;00m\u001b[38;5;250m \u001b[39m\u001b[38;5;28;01mimport\u001b[39;00m load_model\n\u001b[32m      2\u001b[39m \u001b[38;5;28;01mimport\u001b[39;00m\u001b[38;5;250m \u001b[39m\u001b[34;01mnumpy\u001b[39;00m\u001b[38;5;250m \u001b[39m\u001b[38;5;28;01mas\u001b[39;00m\u001b[38;5;250m \u001b[39m\u001b[34;01mnp\u001b[39;00m\n\u001b[32m      3\u001b[39m \u001b[38;5;28;01mfrom\u001b[39;00m\u001b[38;5;250m \u001b[39m\u001b[34;01mtensorflow\u001b[39;00m\u001b[34;01m.\u001b[39;00m\u001b[34;01mkeras\u001b[39;00m\u001b[34;01m.\u001b[39;00m\u001b[34;01mutils\u001b[39;00m\u001b[38;5;250m \u001b[39m\u001b[38;5;28;01mimport\u001b[39;00m load_img, img_to_array\n",
      "\u001b[31mModuleNotFoundError\u001b[39m: No module named 'keras'"
     ]
    }
   ],
   "source": [
    "from keras.models import load_model\n",
    "import numpy as np\n",
    "from tensorflow.keras.utils import load_img, img_to_array\n",
    "from PIL import ImageOps\n",
    "from IPython.display import display, Image\n",
    "import matplotlib.pyplot as plt\n",
    "from tensorflow.keras import keras\n",
    "\n",
    "\n",
    "# Charger le modèle sauvegardé\n",
    "model = load_model(\"../models/unet_resnet50.keras\")\n",
    "\n",
    "# Fonction pour préparer une image pour la prédiction\n",
    "def prepare_image(image_path, img_size):\n",
    "    img = load_img(image_path, target_size=img_size)\n",
    "    img = img_to_array(img)\n",
    "    img = np.expand_dims(img, axis=0)\n",
    "    img = img / 255.0  # Normaliser l'image\n",
    "    return img\n",
    "\n",
    "# Fonction pour afficher l'image et la prédiction\n",
    "def display_prediction(image_path, prediction, img_size):\n",
    "    img = load_img(image_path)\n",
    "    display(img)\n",
    "\n",
    "    # Afficher la prédiction\n",
    "    mask = np.argmax(prediction, axis=-1)\n",
    "    mask = np.expand_dims(mask, axis=-1)\n",
    "    mask = ImageOps.autocontrast(keras.utils.array_to_img(mask))\n",
    "    display(mask)\n",
    "\n",
    "# Chemin vers une image de test\n",
    "test_image_path = \"../assets/image_test.png\"\n",
    "\n",
    "# Préparer l'image pour la prédiction\n",
    "img = prepare_image(test_image_path, (224,224,3))\n",
    "\n",
    "# Faire une prédiction\n",
    "prediction = model.predict(img)\n",
    "\n",
    "# Afficher l'image et la prédiction\n",
    "display_prediction(test_image_path, prediction[0], (224,224,3))\n"
   ]
  }
 ],
 "metadata": {
  "kernelspec": {
   "display_name": "Projet 8 - Traitez les images pour le système embarqué d’une voiture autonome",
   "language": "python",
   "name": "python3"
  },
  "language_info": {
   "codemirror_mode": {
    "name": "ipython",
    "version": 3
   },
   "file_extension": ".py",
   "mimetype": "text/x-python",
   "name": "python",
   "nbconvert_exporter": "python",
   "pygments_lexer": "ipython3",
   "version": "3.11.6"
  }
 },
 "nbformat": 4,
 "nbformat_minor": 5
}
