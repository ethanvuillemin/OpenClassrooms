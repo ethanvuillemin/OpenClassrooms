{
 "cells": [
  {
   "cell_type": "markdown",
   "id": "b38647d1",
   "metadata": {},
   "source": [
    "# Modèle sur mesure simple"
   ]
  },
  {
   "cell_type": "code",
   "execution_count": null,
   "id": "4b35e834",
   "metadata": {},
   "outputs": [],
   "source": []
  },
  {
   "cell_type": "code",
   "execution_count": null,
   "id": "8fc6f107",
   "metadata": {},
   "outputs": [],
   "source": []
  },
  {
   "cell_type": "code",
   "execution_count": null,
   "id": "30a2ceea",
   "metadata": {},
   "outputs": [],
   "source": []
  },
  {
   "cell_type": "markdown",
   "id": "3ab3bfb1",
   "metadata": {},
   "source": [
    "# Modèle sur mesure avancé\n",
    "\n",
    "- 2 word embedding\n",
    "- Regarder l'apport en perf d'un modèle bert"
   ]
  },
  {
   "cell_type": "code",
   "execution_count": null,
   "id": "dba8c5b6",
   "metadata": {},
   "outputs": [],
   "source": []
  },
  {
   "cell_type": "code",
   "execution_count": null,
   "id": "bfa6ff07",
   "metadata": {},
   "outputs": [],
   "source": []
  },
  {
   "cell_type": "code",
   "execution_count": null,
   "id": "0114ebd0",
   "metadata": {},
   "outputs": [],
   "source": []
  },
  {
   "cell_type": "markdown",
   "id": "8d579245",
   "metadata": {},
   "source": [
    "# "
   ]
  }
 ],
 "metadata": {
  "language_info": {
   "name": "python"
  }
 },
 "nbformat": 4,
 "nbformat_minor": 5
}
