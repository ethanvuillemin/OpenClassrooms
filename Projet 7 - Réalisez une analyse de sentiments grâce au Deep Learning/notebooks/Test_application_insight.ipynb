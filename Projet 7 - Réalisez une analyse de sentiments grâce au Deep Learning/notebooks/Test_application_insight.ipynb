{
 "cells": [
  {
   "cell_type": "code",
   "execution_count": 2,
   "id": "58a9b6fb",
   "metadata": {},
   "outputs": [
    {
     "name": "stderr",
     "output_type": "stream",
     "text": [
      "INFO:__main__:Initialisation de la connexion à Azure Application Insights...\n",
      "INFO:__main__:Connexion réussie.\n",
      "INFO:__main__:Données envoyées : {'sentiment': 'Negatif', 'sentence': \"I hate this product, it's awful\", 'source': 'simulateur'}\n",
      "INFO:__main__:Données envoyées : {'sentiment': 'Negatif', 'sentence': 'This movie is a total disaster', 'source': 'simulateur'}\n",
      "INFO:__main__:Données envoyées : {'sentiment': 'Negatif', 'sentence': 'Non-existent customer service, very disappointed', 'source': 'simulateur'}\n",
      "INFO:__main__:Données envoyées : {'sentiment': 'Negatif', 'sentence': 'The delivery took 3 weeks, too slow', 'source': 'simulateur'}\n",
      "INFO:__main__:Données envoyées : {'sentiment': 'Negatif', 'sentence': \"This is the worst experience I've ever had\", 'source': 'simulateur'}\n",
      "INFO:__main__:Données envoyées : {'sentiment': 'Negatif', 'sentence': 'Defective product, I do not recommend it', 'source': 'simulateur'}\n",
      "INFO:__main__:Données envoyées : {'sentiment': 'Negatif', 'sentence': 'No technical support, left alone after purchase', 'source': 'simulateur'}\n",
      "INFO:__main__:Données envoyées : {'sentiment': 'Negatif', 'sentence': 'Website that crashes all the time', 'source': 'simulateur'}\n",
      "INFO:__main__:Données envoyées : {'sentiment': 'Negatif', 'sentence': 'Very poor value for money', 'source': 'simulateur'}\n",
      "INFO:__main__:Données envoyées : {'sentiment': 'Negatif', 'sentence': 'I wasted my time and money', 'source': 'simulateur'}\n",
      "INFO:__main__:Envoi final des données à Azure...\n",
      "INFO:__main__:Toutes les données ont été envoyer\n"
     ]
    }
   ],
   "source": [
    "import os\n",
    "import time\n",
    "import logging\n",
    "import random\n",
    "from dotenv import load_dotenv\n",
    "from applicationinsights import TelemetryClient\n",
    "\n",
    "# Charger les variables d'environnement depuis .env\n",
    "load_dotenv()\n",
    "\n",
    "# Configuration du logging\n",
    "logging.basicConfig(level=logging.INFO)\n",
    "logger = logging.getLogger(__name__)\n",
    "\n",
    "# Récupérer la clé d'instrumentation depuis .env\n",
    "INSTRUMENTATION_KEY = \"1fc8d85b-2e1d-4476-a4b8-be62f697326f\"\n",
    "\n",
    "if not INSTRUMENTATION_KEY:\n",
    "    logger.error(\"Erreur : Aucune clé d'instrumentation trouvée dans .env\")\n",
    "    exit(1)\n",
    "\n",
    "# Initialiser le client Application Insights\n",
    "logger.info(\"Initialisation de la connexion à Azure Application Insights...\")\n",
    "tc = TelemetryClient(INSTRUMENTATION_KEY)\n",
    "logger.info(\"Connexion réussie.\")\n",
    "\n",
    "# Liste de phrases négatives simulées\n",
    "negative_sentences = [\n",
    "    \"I hate this product, it's awful\",\n",
    "    \"This movie is a total disaster\",\n",
    "    \"Non-existent customer service, very disappointed\",\n",
    "    \"The delivery took 3 weeks, too slow\",\n",
    "    \"This is the worst experience I've ever had\",\n",
    "    \"Defective product, I do not recommend it\",\n",
    "    \"No technical support, left alone after purchase\",\n",
    "    \"Website that crashes all the time\",\n",
    "    \"Very poor value for money\",\n",
    "    \"I wasted my time and money\"\n",
    "]\n",
    "\n",
    "# Simuler l'envoi de requêtes \"Negatif\"\n",
    "for i, sentence in enumerate(negative_sentences):\n",
    "    event_data = {\n",
    "        'sentiment': 'Negatif',\n",
    "        'sentence': sentence[:100],\n",
    "        'source': 'simulateur'\n",
    "    }\n",
    "\n",
    "    # Envoyer à Azure Application Insights\n",
    "    tc.track_event('Prediction', event_data)\n",
    "\n",
    "    # Log local\n",
    "    logger.info(f\"Données envoyées : {event_data}\")\n",
    "\n",
    "    # Pause aléatoire entre 1 et 2 secondes\n",
    "    time.sleep(random.uniform(1, 2))\n",
    "\n",
    "# Forcer l'envoi final des données\n",
    "logger.info(\"Envoi final des données à Azure...\")\n",
    "tc.flush()\n",
    "logger.info(\"Toutes les données ont été envoyer\")"
   ]
  }
 ],
 "metadata": {
  "kernelspec": {
   "display_name": ".venv_p7",
   "language": "python",
   "name": "python3"
  },
  "language_info": {
   "codemirror_mode": {
    "name": "ipython",
    "version": 3
   },
   "file_extension": ".py",
   "mimetype": "text/x-python",
   "name": "python",
   "nbconvert_exporter": "python",
   "pygments_lexer": "ipython3",
   "version": "3.11.6"
  }
 },
 "nbformat": 4,
 "nbformat_minor": 5
}
