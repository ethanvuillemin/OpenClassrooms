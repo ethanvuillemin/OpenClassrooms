{
  "cells": [
    {
      "cell_type": "markdown",
      "metadata": {
        "id": "o4NQzjonrjDm"
      },
      "source": [
        "# Semantic segmentation with Unet and Resnet50 backbone"
      ]
    },
    {
      "cell_type": "code",
      "execution_count": 1,
      "metadata": {
        "colab": {
          "base_uri": "https://localhost:8080/"
        },
        "id": "Qf_MqQhLrfdk",
        "outputId": "f1c469f5-2b69-47f6-84bc-466ec6b37299"
      },
      "outputs": [],
      "source": [
        "# from google.colab import drive\n",
        "# drive.mount('/content/drive')"
      ]
    },
    {
      "cell_type": "code",
      "execution_count": 3,
      "metadata": {
        "id": "QAUg7Uq5ruy6"
      },
      "outputs": [],
      "source": [
        "import os\n",
        "import shutil\n",
        "import traceback\n",
        "\n",
        "from IPython.display import Image, display\n",
        "from keras.utils import load_img\n",
        "from PIL import ImageOps\n",
        "\n",
        "import cv2\n",
        "import numpy as np\n",
        "import albumentations as A\n",
        "from albumentations.core.composition import Compose\n",
        "\n",
        "from sklearn.model_selection import train_test_split\n",
        "\n",
        "from tensorflow.keras.layers import Conv2D, BatchNormalization, Activation, Conv2DTranspose, Concatenate, Input\n",
        "from tensorflow.keras.models import Model\n",
        "from tensorflow.keras.applications import ResNet50\n",
        "\n",
        "import tensorflow as tf\n",
        "from tensorflow.keras import backend as K\n",
        "\n",
        "from tensorflow.keras.callbacks import EarlyStopping, ModelCheckpoint"
      ]
    },
    {
      "cell_type": "code",
      "execution_count": null,
      "metadata": {
        "id": "Q_u203hzrilZ"
      },
      "outputs": [],
      "source": [
        "IMAGE_PATH = \"../data/P8_Cityscapes_leftImg8bit_trainvaltest.zip\"\n",
        "LABEL_PATH = \"../data/P8_Cityscapes_gtFine_trainvaltest.zip\"\n",
        "#!unzip -q {IMAGE_PATH} -d /content/drive/MyDrive/Openclassrooms/p8\n",
        "#!unzip -q {LABEL_PATH} -d /content/drive/MyDrive/Openclassrooms/p8"
      ]
    },
    {
      "cell_type": "code",
      "execution_count": null,
      "metadata": {
        "id": "qPthbfrSrt7A"
      },
      "outputs": [],
      "source": [
        "input_dir = \"../data/leftImg8bit\"\n",
        "target_dir = \"../data/gtFine\"\n",
        "num_classes = 8\n",
        "batch_size = 128\n",
        "directory = ['val', 'test', 'train']"
      ]
    },
    {
      "cell_type": "markdown",
      "metadata": {
        "id": "u44D-8PGr3ZT"
      },
      "source": [
        "## Préprocessing des images"
      ]
    },
    {
      "cell_type": "code",
      "execution_count": 6,
      "metadata": {
        "id": "sQmRtmVirzNR"
      },
      "outputs": [],
      "source": [
        "def images_in_one_folder(base_dir, directories):\n",
        "    for dir in directories:\n",
        "        print(f\"Directory: {dir}\")\n",
        "        folder_path = os.path.join(base_dir, dir)\n",
        "        try:\n",
        "            if not os.path.exists(folder_path):\n",
        "                print(f\"Le chemin {folder_path} n'existe pas.\")\n",
        "                continue\n",
        "            for folder in os.listdir(folder_path):\n",
        "                folder_full_path = os.path.join(folder_path, folder)\n",
        "                try:\n",
        "                    if os.path.isdir(folder_full_path):\n",
        "                        for file in os.listdir(folder_full_path):\n",
        "                            file_full_path = os.path.join(folder_full_path, file)\n",
        "                            try:\n",
        "                                shutil.move(file_full_path, folder_path)\n",
        "                                print(f\"Fichier déplacé: {file_full_path} vers {folder_path}\")\n",
        "                            except Exception as e:\n",
        "                                print(f\"Erreur lors du déplacement du fichier {file_full_path}: {e}\")\n",
        "                                traceback.print_exc()\n",
        "                        try:\n",
        "                            os.rmdir(folder_full_path)\n",
        "                            print(f\"Dossier supprimé: {folder_full_path}\")\n",
        "                        except Exception as e:\n",
        "                            print(f\"Erreur lors de la suppression du dossier {folder_full_path}: {e}\")\n",
        "                            traceback.print_exc()\n",
        "                except Exception as e:\n",
        "                    print(f\"Erreur lors du traitement du dossier {folder_full_path}: {e}\")\n",
        "                    traceback.print_exc()\n",
        "        except Exception as e:\n",
        "            print(f\"Erreur lors du traitement du répertoire {dir}: {e}\")\n",
        "            traceback.print_exc()\n",
        "    print(\"Tous les fichiers ont été déplacés.\\n\")\n",
        "\n",
        "\n",
        "\n",
        "def clean_directories(base_dir, directories, tag):\n",
        "    for dir in directories:\n",
        "        print(f\"Directory: {dir}\")\n",
        "        folder_path = os.path.join(base_dir, dir)\n",
        "        try:\n",
        "            if not os.path.exists(folder_path):\n",
        "                print(f\"Le chemin {folder_path} n'existe pas.\")\n",
        "                continue\n",
        "            for file in os.listdir(folder_path):\n",
        "                file_full_path = os.path.join(folder_path, file)\n",
        "                try:\n",
        "                    if os.path.isfile(file_full_path) and tag not in file:\n",
        "                        os.remove(file_full_path)\n",
        "                        print(f\"Fichier supprimé: {file_full_path}\")\n",
        "                except Exception as e:\n",
        "                    print(f\"Erreur lors du traitement du fichier {file_full_path}: {e}\")\n",
        "                    traceback.print_exc()\n",
        "        except Exception as e:\n",
        "            print(f\"Erreur lors du traitement du répertoire {dir}: {e}\")\n",
        "            traceback.print_exc()\n",
        "    print(\"Nettoyage terminé.\\n\")\n",
        "\n"
      ]
    },
    {
      "cell_type": "code",
      "execution_count": 7,
      "metadata": {
        "colab": {
          "base_uri": "https://localhost:8080/",
          "height": 1000
        },
        "id": "G_fHycY4sApZ",
        "outputId": "0d5b82e8-48f9-4c6f-a74a-5c8566bc4b81"
      },
      "outputs": [
        {
          "name": "stdout",
          "output_type": "stream",
          "text": [
            "Directory: val\n",
            "Le chemin /content/drive/MyDrive/Openclassrooms/p8/leftImg8bit\\val n'existe pas.\n",
            "Directory: test\n",
            "Le chemin /content/drive/MyDrive/Openclassrooms/p8/leftImg8bit\\test n'existe pas.\n",
            "Directory: train\n",
            "Le chemin /content/drive/MyDrive/Openclassrooms/p8/leftImg8bit\\train n'existe pas.\n",
            "Tous les fichiers ont été déplacés.\n",
            "\n",
            "Directory: val\n",
            "Le chemin /content/drive/MyDrive/Openclassrooms/p8/gtFine\\val n'existe pas.\n",
            "Directory: test\n",
            "Le chemin /content/drive/MyDrive/Openclassrooms/p8/gtFine\\test n'existe pas.\n",
            "Directory: train\n",
            "Le chemin /content/drive/MyDrive/Openclassrooms/p8/gtFine\\train n'existe pas.\n",
            "Tous les fichiers ont été déplacés.\n",
            "\n",
            "Directory: val\n",
            "Le chemin /content/drive/MyDrive/Openclassrooms/p8/gtFine\\val n'existe pas.\n",
            "Directory: test\n",
            "Le chemin /content/drive/MyDrive/Openclassrooms/p8/gtFine\\test n'existe pas.\n",
            "Directory: train\n",
            "Le chemin /content/drive/MyDrive/Openclassrooms/p8/gtFine\\train n'existe pas.\n",
            "Nettoyage terminé.\n",
            "\n"
          ]
        },
        {
          "ename": "FileNotFoundError",
          "evalue": "[WinError 3] Le chemin d’accès spécifié est introuvable: '/content/drive/MyDrive/Openclassrooms/p8/leftImg8bit\\\\train'",
          "output_type": "error",
          "traceback": [
            "\u001b[31m---------------------------------------------------------------------------\u001b[39m",
            "\u001b[31mFileNotFoundError\u001b[39m                         Traceback (most recent call last)",
            "\u001b[36mCell\u001b[39m\u001b[36m \u001b[39m\u001b[32mIn[7]\u001b[39m\u001b[32m, line 5\u001b[39m\n\u001b[32m      2\u001b[39m images_in_one_folder(target_dir, directory)\n\u001b[32m      3\u001b[39m clean_directories(target_dir, directory, \u001b[33m'\u001b[39m\u001b[33mgtFine_color\u001b[39m\u001b[33m'\u001b[39m)\n\u001b[32m----> \u001b[39m\u001b[32m5\u001b[39m input_img_paths = \u001b[38;5;28msorted\u001b[39m([os.path.join(input_dir, \u001b[33m'\u001b[39m\u001b[33mtrain\u001b[39m\u001b[33m'\u001b[39m, img) \u001b[38;5;28;01mfor\u001b[39;00m img \u001b[38;5;129;01min\u001b[39;00m \u001b[43mos\u001b[49m\u001b[43m.\u001b[49m\u001b[43mlistdir\u001b[49m\u001b[43m(\u001b[49m\u001b[43mos\u001b[49m\u001b[43m.\u001b[49m\u001b[43mpath\u001b[49m\u001b[43m.\u001b[49m\u001b[43mjoin\u001b[49m\u001b[43m(\u001b[49m\u001b[43minput_dir\u001b[49m\u001b[43m,\u001b[49m\u001b[43m \u001b[49m\u001b[33;43m'\u001b[39;49m\u001b[33;43mtrain\u001b[39;49m\u001b[33;43m'\u001b[39;49m\u001b[43m)\u001b[49m\u001b[43m)\u001b[49m])\n\u001b[32m      6\u001b[39m target_img_paths = \u001b[38;5;28msorted\u001b[39m([os.path.join(target_dir, \u001b[33m'\u001b[39m\u001b[33mtrain\u001b[39m\u001b[33m'\u001b[39m, img) \u001b[38;5;28;01mfor\u001b[39;00m img \u001b[38;5;129;01min\u001b[39;00m os.listdir(os.path.join(target_dir, \u001b[33m'\u001b[39m\u001b[33mtrain\u001b[39m\u001b[33m'\u001b[39m))])\n\u001b[32m      8\u001b[39m \u001b[38;5;28mprint\u001b[39m(input_img_paths)\n",
            "\u001b[31mFileNotFoundError\u001b[39m: [WinError 3] Le chemin d’accès spécifié est introuvable: '/content/drive/MyDrive/Openclassrooms/p8/leftImg8bit\\\\train'"
          ]
        }
      ],
      "source": [
        "images_in_one_folder(input_dir, directory)\n",
        "images_in_one_folder(target_dir, directory)\n",
        "clean_directories(target_dir, directory, 'gtFine_color')\n",
        "\n",
        "input_img_paths = sorted([os.path.join(input_dir, 'train', img) for img in os.listdir(os.path.join(input_dir, 'train'))])\n",
        "target_img_paths = sorted([os.path.join(target_dir, 'train', img) for img in os.listdir(os.path.join(target_dir, 'train'))])\n",
        "\n",
        "print(input_img_paths)\n",
        "print(target_img_paths)\n",
        "\n",
        "display(Image(filename=input_img_paths[11]))\n",
        "\n",
        "if os.path.exists(target_img_paths[11]):\n",
        "    img = ImageOps.autocontrast(load_img(target_img_paths[11]))\n",
        "    display(img)\n",
        "else:\n",
        "    print(f\"Le fichier {target_img_paths[11]} n'existe pas.\")"
      ]
    },
    {
      "cell_type": "code",
      "execution_count": null,
      "metadata": {
        "id": "1piCFY4it7Om"
      },
      "outputs": [],
      "source": [
        "# Définir les transformations\n",
        "transform = A.Compose([\n",
        "    A.HorizontalFlip(p=0.5),\n",
        "    A.RandomBrightnessContrast(p=0.2),\n",
        "])\n",
        "\n",
        "# Fonction pour appliquer les transformations\n",
        "def apply_transformations(image_path, label_path):\n",
        "    image = cv2.imread(image_path)\n",
        "    image = cv2.cvtColor(image, cv2.COLOR_BGR2RGB)\n",
        "    label = cv2.imread(label_path, cv2.IMREAD_GRAYSCALE)\n",
        "\n",
        "    transformed = transform(image=image, mask=label)\n",
        "    transformed_image = transformed['image']\n",
        "    transformed_label = transformed['mask']\n",
        "\n",
        "    return transformed_image, transformed_label\n",
        "\n",
        "# Appliquer les transformations à vos images\n",
        "transformed_images = []\n",
        "transformed_labels = []\n",
        "\n",
        "for img_path, label_path in zip(input_img_paths, target_img_paths):\n",
        "    transformed_image, transformed_label = apply_transformations(img_path, label_path)\n",
        "    transformed_images.append(transformed_image)\n",
        "    transformed_labels.append(transformed_label)\n",
        "\n",
        "# Convertir les listes en tableaux numpy\n",
        "transformed_images = np.array(transformed_images)\n",
        "transformed_labels = np.array(transformed_labels)\n",
        "\n",
        "# Diviser les données en ensembles d'entraînement et de validation\n",
        "x_train, x_val, y_train, y_val = train_test_split(transformed_images, transformed_labels, test_size=0.2, random_state=42)"
      ]
    },
    {
      "cell_type": "markdown",
      "metadata": {
        "id": "tTxp80QQsGvd"
      },
      "source": [
        "## Build the model"
      ]
    },
    {
      "cell_type": "code",
      "execution_count": null,
      "metadata": {
        "id": "epqyKDNisIne"
      },
      "outputs": [],
      "source": [
        "def conv_block(input, num_filters):\n",
        "    x = Conv2D(num_filters, 3, padding=\"same\")(input)\n",
        "    x = BatchNormalization()(x)\n",
        "    x = Activation(\"relu\")(x)\n",
        "    x = Conv2D(num_filters, 3, padding=\"same\")(x)\n",
        "    x = BatchNormalization()(x)\n",
        "    x = Activation(\"relu\")(x)\n",
        "    return x\n",
        "\n",
        "def decoder_block(input, skip_features, num_filters):\n",
        "    x = Conv2DTranspose(num_filters, (2, 2), strides=2, padding=\"same\")(input)\n",
        "    x = Concatenate()([x, skip_features])\n",
        "    x = conv_block(x, num_filters)\n",
        "    return x\n",
        "\n",
        "def build_resnet50_unet(input_shape):\n",
        "    inputs = Input(input_shape)\n",
        "    resnet50 = ResNet50(include_top=False, weights=\"imagenet\", input_tensor=inputs)\n",
        "    s1 = resnet50.get_layer(\"input_layer\").output\n",
        "    s2 = resnet50.get_layer(\"conv1_relu\").output\n",
        "    s3 = resnet50.get_layer(\"conv2_block3_out\").output\n",
        "    s4 = resnet50.get_layer(\"conv3_block4_out\").output\n",
        "    b1 = resnet50.get_layer(\"conv4_block6_out\").output\n",
        "    d1 = decoder_block(b1, s4, 512)\n",
        "    d2 = decoder_block(d1, s3, 256)\n",
        "    d3 = decoder_block(d2, s2, 128)\n",
        "    d4 = decoder_block(d3, s1, 64)\n",
        "    outputs = Conv2D(num_classes, 1, padding=\"same\", activation=\"sigmoid\")(d4)\n",
        "    model = Model(inputs, outputs, name=\"ResNet50_U-Net\")\n",
        "    return model"
      ]
    },
    {
      "cell_type": "code",
      "execution_count": null,
      "metadata": {
        "id": "YVCgk8_9ubez"
      },
      "outputs": [],
      "source": [
        "input_shape = (160, 160, 3)\n",
        "model = build_resnet50_unet(input_shape)"
      ]
    },
    {
      "cell_type": "markdown",
      "metadata": {
        "id": "eYMvr986seWF"
      },
      "source": [
        "### Define the metrics"
      ]
    },
    {
      "cell_type": "code",
      "execution_count": null,
      "metadata": {
        "id": "Xrnr1BXNsI0t"
      },
      "outputs": [],
      "source": [
        "def recall(y_true, y_pred):\n",
        "    true_positives = K.sum(K.round(K.clip(y_true * y_pred, 0, 1)))\n",
        "    possible_positives = K.sum(K.round(K.clip(y_true, 0, 1)))\n",
        "    recall = true_positives / (possible_positives + K.epsilon())\n",
        "    return recall\n",
        "\n",
        "def precision(y_true, y_pred):\n",
        "    true_positives = K.sum(K.round(K.clip(y_true * y_pred, 0, 1)))\n",
        "    predicted_positives = K.sum(K.round(K.clip(y_pred, 0, 1)))\n",
        "    precision = true_positives / (predicted_positives + K.epsilon())\n",
        "    return precision\n",
        "\n",
        "def f1_score(y_true, y_pred):\n",
        "    precision = precision(y_true, y_pred)\n",
        "    recall = recall(y_true, y_pred)\n",
        "    return 2 * ((precision * recall) / (precision + recall + K.epsilon()))\n",
        "\n",
        "def mean_iou(y_true, y_pred):\n",
        "    y_pred = tf.round(y_pred)\n",
        "    intersection = K.sum(K.abs(y_true * y_pred), axis=[1, 2, 3])\n",
        "    union = K.sum(y_true, axis=[1, 2, 3]) + K.sum(y_pred, axis=[1, 2, 3]) - intersection\n",
        "    iou = K.mean((intersection + K.epsilon()) / (union + K.epsilon()), axis=0)\n",
        "    return iou\n",
        "\n",
        "model.compile(optimizer='adam', loss='binary_crossentropy', metrics=[recall, precision, f1_score, mean_iou])\n"
      ]
    },
    {
      "cell_type": "markdown",
      "metadata": {
        "id": "UR-ZJsiashGc"
      },
      "source": [
        "### Train the model"
      ]
    },
    {
      "cell_type": "code",
      "execution_count": null,
      "metadata": {
        "id": "COD6CyIPsIrr"
      },
      "outputs": [],
      "source": [
        "early_stopping = EarlyStopping(monitor='val_loss', patience=10, restore_best_weights=True)\n",
        "model_checkpoint = ModelCheckpoint('best_model.h5', monitor='val_loss', save_best_only=True)\n",
        "\n",
        "\n",
        "history = model.fit(\n",
        "    x_train, y_train,\n",
        "    validation_data=(x_val, y_val),\n",
        "    batch_size=8,\n",
        "    epochs=50,\n",
        "    callbacks=[early_stopping, model_checkpoint],\n",
        "    verbose=1\n",
        ")\n",
        "\n"
      ]
    },
    {
      "cell_type": "markdown",
      "metadata": {
        "id": "VGrGBhR0skRP"
      },
      "source": [
        "### Eval the model"
      ]
    },
    {
      "cell_type": "code",
      "execution_count": null,
      "metadata": {
        "id": "0dblpHCQsjmD"
      },
      "outputs": [],
      "source": [
        "results = model.evaluate(x_val, y_val, batch_size=8)\n",
        "print(\"Validation Loss:\", results[0])\n",
        "print(\"Validation Recall:\", results[1])\n",
        "print(\"Validation Precision:\", results[2])\n",
        "print(\"Validation F1 Score:\", results[3])\n",
        "print(\"Validation Mean IoU:\", results[4])"
      ]
    }
  ],
  "metadata": {
    "accelerator": "GPU",
    "colab": {
      "gpuType": "T4",
      "provenance": []
    },
    "kernelspec": {
      "display_name": "Projet 8 - Traitez les images pour le système embarqué d’une voiture autonome",
      "language": "python",
      "name": "python3"
    },
    "language_info": {
      "codemirror_mode": {
        "name": "ipython",
        "version": 3
      },
      "file_extension": ".py",
      "mimetype": "text/x-python",
      "name": "python",
      "nbconvert_exporter": "python",
      "pygments_lexer": "ipython3",
      "version": "3.11.6"
    }
  },
  "nbformat": 4,
  "nbformat_minor": 0
}
